{
 "cells": [
  {
   "cell_type": "markdown",
   "id": "f89fbeee",
   "metadata": {},
   "source": [
    "#### 1. Double Quotes Use "
   ]
  },
  {
   "cell_type": "code",
   "execution_count": 8,
   "id": "76b3c6c2",
   "metadata": {},
   "outputs": [
    {
     "name": "stdout",
     "output_type": "stream",
     "text": [
      "Python is very simple language\n"
     ]
    }
   ],
   "source": [
    "print(\"Python is very simple language\")"
   ]
  },
  {
   "cell_type": "markdown",
   "id": "c6b3a6dd",
   "metadata": {},
   "source": [
    "#### 2. Single Quotes Use "
   ]
  },
  {
   "cell_type": "code",
   "execution_count": 9,
   "id": "3ac47ed1",
   "metadata": {},
   "outputs": [
    {
     "name": "stdout",
     "output_type": "stream",
     "text": [
      "Hello\n"
     ]
    }
   ],
   "source": [
    "print('Hello')"
   ]
  },
  {
   "cell_type": "markdown",
   "id": "3ef09d85",
   "metadata": {},
   "source": [
    "#### 3. Variable "
   ]
  },
  {
   "cell_type": "code",
   "execution_count": 6,
   "id": "e313acfc",
   "metadata": {},
   "outputs": [
    {
     "name": "stdout",
     "output_type": "stream",
     "text": [
      "Wel come\n",
      "Welcome Python\n"
     ]
    }
   ],
   "source": [
    "str1 = 'Wel'\n",
    "print(str1,'come') \n",
    "str1 = 'Welcome'\n",
    "str2 = 'Python'\n",
    "print(str1, str2)"
   ]
  },
  {
   "cell_type": "markdown",
   "id": "5423f50f",
   "metadata": {},
   "source": [
    "#### 4. String Concatenation"
   ]
  },
  {
   "cell_type": "code",
   "execution_count": 13,
   "id": "f3339995",
   "metadata": {},
   "outputs": [
    {
     "name": "stdout",
     "output_type": "stream",
     "text": [
      "WelcomePython:\n"
     ]
    }
   ],
   "source": [
    "str1 = 'Python'\n",
    "str2 = ':'\n",
    "print('Welcome' + str1 + str2)"
   ]
  },
  {
   "cell_type": "markdown",
   "id": "7e7c4a47",
   "metadata": {},
   "source": [
    "#### 5. Using as String"
   ]
  },
  {
   "cell_type": "markdown",
   "id": "97447adc",
   "metadata": {},
   "source": [
    "%s is used to refer to a variable which contains a string."
   ]
  },
  {
   "cell_type": "code",
   "execution_count": 14,
   "id": "3dfd3948",
   "metadata": {},
   "outputs": [
    {
     "name": "stdout",
     "output_type": "stream",
     "text": [
      "Welcome Python\n"
     ]
    }
   ],
   "source": [
    "str1 = 'Python'\n",
    "print(\"Welcome %s\" % str1)"
   ]
  },
  {
   "cell_type": "markdown",
   "id": "a027ac1c",
   "metadata": {},
   "source": [
    "#### 6. Using other data types:\n",
    "Similarly, when using other data types\n",
    "\n",
    "%d -> Integer\n",
    "\n",
    "%e -> exponential\n",
    "\n",
    "%f -> Float\n",
    "\n",
    "%o -> Octal\n",
    "\n",
    "%x -> Hexadecimal\n",
    "\n",
    "This can be used for conversions inside the print statement itself."
   ]
  },
  {
   "cell_type": "markdown",
   "id": "000cc8bc",
   "metadata": {},
   "source": [
    "#### 7. Other Examples of Print Statement"
   ]
  },
  {
   "cell_type": "markdown",
   "id": "e0bb3e11",
   "metadata": {},
   "source": [
    "##### 7.1 % is used for %d type word"
   ]
  },
  {
   "cell_type": "code",
   "execution_count": 15,
   "id": "77b68173",
   "metadata": {},
   "outputs": [
    {
     "name": "stdout",
     "output_type": "stream",
     "text": [
      "Welcome to %Python language\n"
     ]
    }
   ],
   "source": [
    "print(\"Welcome to %%Python %s\" %'language')"
   ]
  },
  {
   "cell_type": "markdown",
   "id": "42c9b8c5",
   "metadata": {},
   "source": [
    "##### 7.2 \\n is used for Line Break."
   ]
  },
  {
   "cell_type": "code",
   "execution_count": 17,
   "id": "d505e411",
   "metadata": {},
   "outputs": [
    {
     "name": "stdout",
     "output_type": "stream",
     "text": [
      "Sunday\n",
      "Monday\n",
      "Tuesday\n",
      "Wednesday\n",
      "Thursday\n",
      "Friday\n",
      "Saturday\n"
     ]
    }
   ],
   "source": [
    "print(\"Sunday\\nMonday\\nTuesday\\nWednesday\\nThursday\\nFriday\\nSaturday\")"
   ]
  },
  {
   "cell_type": "markdown",
   "id": "3e1ec7de",
   "metadata": {},
   "source": [
    "##### 7.3 Any word print multiple times"
   ]
  },
  {
   "cell_type": "code",
   "execution_count": 18,
   "id": "813fc2a4",
   "metadata": {},
   "outputs": [
    {
     "name": "stdout",
     "output_type": "stream",
     "text": [
      "-w3r-w3r-w3r-w3r-w3r\n"
     ]
    }
   ],
   "source": [
    "print('-w3r'*5)"
   ]
  },
  {
   "cell_type": "markdown",
   "id": "e6b0d7f5",
   "metadata": {},
   "source": [
    "##### 7.4 \\t is used for tab."
   ]
  },
  {
   "cell_type": "code",
   "execution_count": 19,
   "id": "0173a437",
   "metadata": {},
   "outputs": [
    {
     "name": "stdout",
     "output_type": "stream",
     "text": [
      "\n",
      "Language:\n",
      "\t1 Python\n",
      "\t2 Java\n",
      "\t3 JavaScript\n",
      "\n"
     ]
    }
   ],
   "source": [
    "print(\"\"\"\n",
    "Language:\n",
    "\\t1 Python\n",
    "\\t2 Java\\n\\t3 JavaScript\n",
    "\"\"\")"
   ]
  }
 ],
 "metadata": {
  "kernelspec": {
   "display_name": "Python 3 (ipykernel)",
   "language": "python",
   "name": "python3"
  },
  "language_info": {
   "codemirror_mode": {
    "name": "ipython",
    "version": 3
   },
   "file_extension": ".py",
   "mimetype": "text/x-python",
   "name": "python",
   "nbconvert_exporter": "python",
   "pygments_lexer": "ipython3",
   "version": "3.11.5"
  }
 },
 "nbformat": 4,
 "nbformat_minor": 5
}
