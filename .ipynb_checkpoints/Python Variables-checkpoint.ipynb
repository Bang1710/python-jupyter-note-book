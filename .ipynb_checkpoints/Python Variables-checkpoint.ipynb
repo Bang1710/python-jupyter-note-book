{
 "cells": [
  {
   "cell_type": "markdown",
   "id": "fd687657",
   "metadata": {},
   "source": [
    "#### 1. Rules for Python variables"
   ]
  },
  {
   "cell_type": "markdown",
   "id": "8dbcf978",
   "metadata": {},
   "source": [
    "1.1 A Python variable name must start with a letter or the underscore character.\n",
    "\n",
    "1.2 A Python variable name cannot start with a number.\n",
    "\n",
    "1.3 A Python variable name can only contain alpha-numeric characters and underscores (A-z, 0-9, and _ ).\n",
    "\n",
    "1.4 Variable in Python names are case-sensitive (name, Name, and NAME are three different variables).\n",
    "\n",
    "1.5 The reserved words(keywords) in Python cannot be used to name the variable in Python."
   ]
  },
  {
   "cell_type": "code",
   "execution_count": 1,
   "id": "3347caa6",
   "metadata": {},
   "outputs": [
    {
     "name": "stdout",
     "output_type": "stream",
     "text": [
      "1 2 5\n",
      "6 7 8\n"
     ]
    }
   ],
   "source": [
    "# Example\n",
    "# valid variable name\n",
    "geeks = 1\n",
    "Geeks = 2\n",
    "Ge_e_ks = 5\n",
    "_geeks = 6\n",
    "geeks_ = 7\n",
    "_GEEKS_ = 8\n",
    " \n",
    "print(geeks, Geeks, Ge_e_ks)\n",
    "print(_geeks, geeks_, _GEEKS_)"
   ]
  },
  {
   "cell_type": "markdown",
   "id": "3035c8b1",
   "metadata": {},
   "source": [
    "#### 2. Variables Assignment in Python"
   ]
  },
  {
   "cell_type": "code",
   "execution_count": 2,
   "id": "fb960055",
   "metadata": {},
   "outputs": [
    {
     "name": "stdout",
     "output_type": "stream",
     "text": [
      "45\n",
      "1456.8\n",
      "John\n"
     ]
    }
   ],
   "source": [
    "# An integer assignment\n",
    "age = 45\n",
    "\n",
    "# A floating point\n",
    "salary = 1456.8\n",
    "\n",
    "# A string\n",
    "name = \"John\"\n",
    "\n",
    "print(age)\n",
    "print(salary)\n",
    "print(name)"
   ]
  },
  {
   "cell_type": "markdown",
   "id": "2bd12348",
   "metadata": {},
   "source": [
    "#### 3. Declaration and Initialization of Variables"
   ]
  },
  {
   "cell_type": "code",
   "execution_count": 3,
   "id": "74665ced",
   "metadata": {},
   "outputs": [
    {
     "name": "stdout",
     "output_type": "stream",
     "text": [
      "100\n"
     ]
    }
   ],
   "source": [
    "# declaring the var\n",
    "Number = 100\n",
    "\n",
    "# display\n",
    "print( Number)"
   ]
  },
  {
   "cell_type": "markdown",
   "id": "9cfd46fd",
   "metadata": {},
   "source": [
    "#### 4. Redeclaring variables in Python"
   ]
  },
  {
   "cell_type": "code",
   "execution_count": 4,
   "id": "79a3bce2",
   "metadata": {},
   "outputs": [
    {
     "name": "stdout",
     "output_type": "stream",
     "text": [
      "Before declare:  100\n",
      "After re-declare: 120.3\n"
     ]
    }
   ],
   "source": [
    "# declaring the var\n",
    "Number = 100\n",
    "\n",
    "# display\n",
    "print(\"Before declare: \", Number)\n",
    "\n",
    "# re-declare the var\n",
    "Number = 120.3\n",
    "\n",
    "print(\"After re-declare:\", Number)"
   ]
  },
  {
   "cell_type": "markdown",
   "id": "245f2124",
   "metadata": {},
   "source": [
    "#### 5. Python Assign Values to Multiple Variables "
   ]
  },
  {
   "cell_type": "code",
   "execution_count": 1,
   "id": "76a61335",
   "metadata": {},
   "outputs": [
    {
     "name": "stdout",
     "output_type": "stream",
     "text": [
      "10\n",
      "10\n",
      "10\n"
     ]
    }
   ],
   "source": [
    "a = b = c = 10\n",
    "\n",
    "print(a)\n",
    "print(b)\n",
    "print(c)"
   ]
  },
  {
   "cell_type": "code",
   "execution_count": 2,
   "id": "2543396b",
   "metadata": {},
   "outputs": [
    {
     "name": "stdout",
     "output_type": "stream",
     "text": [
      "1\n",
      "20.2\n",
      "GeeksforGeeks\n"
     ]
    }
   ],
   "source": [
    "a, b, c = 1, 20.2, \"GeeksforGeeks\"\n",
    "\n",
    "print(a)\n",
    "print(b)\n",
    "print(c)"
   ]
  },
  {
   "cell_type": "code",
   "execution_count": 3,
   "id": "f5af6b95",
   "metadata": {},
   "outputs": [
    {
     "name": "stdout",
     "output_type": "stream",
     "text": [
      "GeeksforGeeks\n"
     ]
    }
   ],
   "source": [
    "a = 10\n",
    "a = \"GeeksforGeeks\"\n",
    "\n",
    "print(a)"
   ]
  },
  {
   "cell_type": "markdown",
   "id": "7798b45b",
   "metadata": {},
   "source": [
    "##### 6. How does + operator work with variables? "
   ]
  },
  {
   "cell_type": "code",
   "execution_count": 4,
   "id": "c16a4375",
   "metadata": {},
   "outputs": [
    {
     "name": "stdout",
     "output_type": "stream",
     "text": [
      "30\n",
      "GeeksforGeeks\n"
     ]
    }
   ],
   "source": [
    "a = 10\n",
    "b = 20\n",
    "print(a+b)\n",
    "\n",
    "a = \"Geeksfor\"\n",
    "b = \"Geeks\"\n",
    "print(a+b)"
   ]
  },
  {
   "cell_type": "markdown",
   "id": "e9f97386",
   "metadata": {},
   "source": [
    "a = 10\n",
    "b = \"Geeks\"\n",
    "print(a+b)\n",
    "#Ouput: TypeError: unsupported operand type(s) for +: 'int' and 'str'"
   ]
  },
  {
   "cell_type": "markdown",
   "id": "40d06526",
   "metadata": {},
   "source": [
    "##### 7. Global and Local Python Variables"
   ]
  },
  {
   "cell_type": "code",
   "execution_count": 6,
   "id": "f0e2d324",
   "metadata": {},
   "outputs": [
    {
     "name": "stdout",
     "output_type": "stream",
     "text": [
      "Welcome geeks\n"
     ]
    }
   ],
   "source": [
    "# This function uses global variable s\n",
    "def f():\n",
    "\ts = \"Welcome geeks\"\n",
    "\tprint(s)\n",
    "\n",
    "\n",
    "f()"
   ]
  },
  {
   "cell_type": "code",
   "execution_count": 7,
   "id": "7e954788",
   "metadata": {},
   "outputs": [
    {
     "name": "stdout",
     "output_type": "stream",
     "text": [
      "I love Geeksforgeeks\n"
     ]
    }
   ],
   "source": [
    "# This function has a variable with\n",
    "# name same as s.\n",
    "def f():\n",
    "\tprint(s)\n",
    "\n",
    "\n",
    "# Global scope\n",
    "s = \"I love Geeksforgeeks\"\n",
    "f()"
   ]
  },
  {
   "cell_type": "markdown",
   "id": "b98ea241",
   "metadata": {},
   "source": [
    "##### 8. Built-in Python Data types are:"
   ]
  },
  {
   "cell_type": "markdown",
   "id": "54c13b5d",
   "metadata": {},
   "source": [
    "Numeric\n",
    "\n",
    "Text Type\n",
    "\n",
    "Sequence Type (Python list, Python tuple, Python range)\n",
    "\n",
    "Boolean\n",
    "\n",
    "Set\n",
    "\n",
    "Dictionary"
   ]
  },
  {
   "cell_type": "code",
   "execution_count": 8,
   "id": "215a92ca",
   "metadata": {},
   "outputs": [
    {
     "name": "stdout",
     "output_type": "stream",
     "text": [
      "Numeric data :  123\n",
      "String with the use of Single Quotes: \n",
      "Welcome to the Geeks World\n",
      "<class 'bool'>\n",
      "<class 'bool'>\n",
      "\n",
      "Set with the use of String: \n",
      "{'e', 'k', 'F', 'r', 's', 'G', 'o'}\n",
      "\n",
      "Dictionary with the use of Integer Keys: \n",
      "{1: 'Geeks', 2: 'For', 3: 'Geeks'}\n"
     ]
    }
   ],
   "source": [
    "# numberic\n",
    "var = 123\n",
    "print(\"Numeric data : \", var)\n",
    "\n",
    "# Sequence Type\n",
    "String1 = 'Welcome to the Geeks World'\n",
    "print(\"String with the use of Single Quotes: \")\n",
    "print(String1)\n",
    "\n",
    "# Boolean\n",
    "print(type(True))\n",
    "print(type(False))\n",
    "\n",
    "# Creating a Set with\n",
    "# the use of a String\n",
    "set1 = set(\"GeeksForGeeks\")\n",
    "print(\"\\nSet with the use of String: \")\n",
    "print(set1)\n",
    "\n",
    "# Creating a Dictionary\n",
    "# with Integer Keys\n",
    "Dict = {1: 'Geeks', 2: 'For', 3: 'Geeks'}\n",
    "print(\"\\nDictionary with the use of Integer Keys: \")\n",
    "print(Dict)"
   ]
  },
  {
   "cell_type": "markdown",
   "id": "eefe3752",
   "metadata": {},
   "source": [
    "##### 9. Object Reference in Python"
   ]
  },
  {
   "cell_type": "code",
   "execution_count": 9,
   "id": "3433348c",
   "metadata": {},
   "outputs": [],
   "source": [
    "x = 5\n",
    "y = x\n",
    "x = 'Geeks'\n",
    "y = \"Computer\""
   ]
  },
  {
   "cell_type": "code",
   "execution_count": 12,
   "id": "2cff2f83",
   "metadata": {},
   "outputs": [
    {
     "data": {
      "text/plain": [
       "'Computer'"
      ]
     },
     "execution_count": 12,
     "metadata": {},
     "output_type": "execute_result"
    }
   ],
   "source": [
    "y"
   ]
  },
  {
   "cell_type": "code",
   "execution_count": 11,
   "id": "07f6ba3b",
   "metadata": {},
   "outputs": [
    {
     "data": {
      "text/plain": [
       "'Geeks'"
      ]
     },
     "execution_count": 11,
     "metadata": {},
     "output_type": "execute_result"
    }
   ],
   "source": [
    "x"
   ]
  }
 ],
 "metadata": {
  "kernelspec": {
   "display_name": "Python 3 (ipykernel)",
   "language": "python",
   "name": "python3"
  },
  "language_info": {
   "codemirror_mode": {
    "name": "ipython",
    "version": 3
   },
   "file_extension": ".py",
   "mimetype": "text/x-python",
   "name": "python",
   "nbconvert_exporter": "python",
   "pygments_lexer": "ipython3",
   "version": "3.11.5"
  }
 },
 "nbformat": 4,
 "nbformat_minor": 5
}
